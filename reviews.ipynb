{
 "cells": [
  {
   "cell_type": "code",
   "execution_count": 2,
   "metadata": {},
   "outputs": [
    {
     "name": "stdout",
     "output_type": "stream",
     "text": [
      "Peter\tNancy Pollock\t1.87\n",
      "Peter\tJack Holmes\t2.87\n",
      "Peter\tDoug Redpath\t1.8\n",
      "Peter\tJill Brown\t1.5\n",
      "Peter\tTrevor Chappell\t2.74\n",
      "Peter\tMary Doyle\t1.58\n"
     ]
    }
   ],
   "source": [
    "#Question 2\n",
    "\n",
    "import ast\n",
    "import math\n",
    "\n",
    "def getSimilarity(rev1, rev2):\n",
    "    dict1 = my_dict[rev1]\n",
    "    dict2 = my_dict[rev2]\n",
    "    score = 0\n",
    "    for i in dict1:\n",
    "        if i in dict2:\n",
    "            score += (dict1[i]-dict2[i])**2\n",
    "    print(\"{}\\t{}\\t{}\".format(rev1, rev2, round(math.sqrt(score),2)))\n",
    "\n",
    "def getSimilarities(rev1):\n",
    "    for rev2 in my_dict:\n",
    "        if rev2 != rev1:\n",
    "            getSimilarity(rev1, rev2)\n",
    "\n",
    "file1 = open(\"reviews.txt\",'r').read()\n",
    "my_dict = ast.literal_eval(file1)\n",
    "#getSimilarity('Peter', 'Trevor Chappell')\n",
    "getSimilarities('Peter')"
   ]
  }
 ],
 "metadata": {
  "kernelspec": {
   "display_name": "Python 2",
   "language": "python",
   "name": "python2"
  },
  "language_info": {
   "codemirror_mode": {
    "name": "ipython",
    "version": 2
   },
   "file_extension": ".py",
   "mimetype": "text/x-python",
   "name": "python",
   "nbconvert_exporter": "python",
   "pygments_lexer": "ipython2",
   "version": "2.7.14"
  }
 },
 "nbformat": 4,
 "nbformat_minor": 2
}
